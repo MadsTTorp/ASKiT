{
 "cells": [
  {
   "cell_type": "markdown",
   "metadata": {},
   "source": [
    "# Develop system"
   ]
  },
  {
   "cell_type": "code",
   "execution_count": 1,
   "metadata": {},
   "outputs": [],
   "source": [
    "import os\n",
    "import uuid\n",
    "from typing import Sequence, Annotated\n",
    "from typing_extensions import TypedDict\n",
    "from IPython.display import Image, display\n",
    "\n",
    "from langchain_core.messages import BaseMessage, HumanMessage, ToolMessage, AIMessage\n",
    "from langchain_openai import ChatOpenAI, OpenAIEmbeddings\n",
    "from langchain_huggingface import HuggingFaceEmbeddings, HuggingFaceEndpoint\n",
    "\n",
    "from langgraph.graph.message import add_messages\n",
    "from langgraph.graph import StateGraph, END\n",
    "from langchain_chroma import Chroma\n",
    "from dotenv import load_dotenv, find_dotenv"
   ]
  },
  {
   "cell_type": "code",
   "execution_count": 2,
   "metadata": {},
   "outputs": [
    {
     "data": {
      "text/plain": [
       "True"
      ]
     },
     "execution_count": 2,
     "metadata": {},
     "output_type": "execute_result"
    }
   ],
   "source": [
    "load_dotenv(find_dotenv())"
   ]
  },
  {
   "cell_type": "markdown",
   "metadata": {},
   "source": [
    "### Setup RAG system"
   ]
  },
  {
   "cell_type": "markdown",
   "metadata": {},
   "source": [
    "Functions to call llm"
   ]
  },
  {
   "cell_type": "code",
   "execution_count": 3,
   "metadata": {},
   "outputs": [],
   "source": [
    "def get_openai_models():\n",
    "    \"\"\"\n",
    "    Returns a ChatOpenAI LLM and OpenAIEmbeddings instance.\n",
    "    \"\"\"\n",
    "    OPENAI_API_KEY = os.getenv(\"OPENAI_API_KEY\")\n",
    "    assert OPENAI_API_KEY, \"Please set OPENAI_API_KEY environment variable\"\n",
    "    llm = ChatOpenAI(model=\"gpt-4o-mini\")\n",
    "    embeddings = OpenAIEmbeddings(model=\"text-embedding-3-large\")\n",
    "    return llm, embeddings\n",
    "\n",
    "def get_opensource_models():\n",
    "    \"\"\"\n",
    "    Returns a HuggingFaceEndpoint LLM and HuggingFaceEmbeddings instance.\n",
    "    Uses the Mistral-7B-Instruct model and a sentence-transformers model for embeddings.\n",
    "    \"\"\"\n",
    "    HUGGINGFACEHUB_API_TOKEN = os.getenv(\"HUGGINGFACEHUB_API_TOKEN\")\n",
    "    assert HUGGINGFACEHUB_API_TOKEN, \"Please set HUGGINGFACEHUB_API_TOKEN environment variable\"\n",
    "    endpoint_url = \"https://api-inference.huggingface.co/models/mistralai/Mistral-7B-Instruct-v0.2\"\n",
    "    llm = HuggingFaceEndpoint(\n",
    "        endpoint_url=endpoint_url,\n",
    "        huggingfacehub_api_token=HUGGINGFACEHUB_API_TOKEN\n",
    "    )\n",
    "    embeddings = HuggingFaceEmbeddings(model_name=\"sentence-transformers/all-MiniLM-L6-v2\")\n",
    "    return llm, embeddings"
   ]
  },
  {
   "cell_type": "code",
   "execution_count": 4,
   "metadata": {},
   "outputs": [
    {
     "name": "stderr",
     "output_type": "stream",
     "text": [
      "/home/matt/miniconda3/envs/py311_ASKiT/lib/python3.11/site-packages/tqdm/auto.py:21: TqdmWarning: IProgress not found. Please update jupyter and ipywidgets. See https://ipywidgets.readthedocs.io/en/stable/user_install.html\n",
      "  from .autonotebook import tqdm as notebook_tqdm\n"
     ]
    }
   ],
   "source": [
    "provider = os.getenv(\"USE_PROVIDER\", \"huggingface\").lower()\n",
    "if provider == \"openai\":\n",
    "    llm, embeddings = get_openai_models()\n",
    "    vectorstore = Chroma(\n",
    "        persist_directory='./openai_chroma_langchain_db', \n",
    "        embedding_function=embeddings, \n",
    "        collection_name='openai_embeddings'\n",
    "    )\n",
    "elif provider == \"huggingface\":\n",
    "    llm, embeddings = get_opensource_models()\n",
    "    vectorstore = Chroma(\n",
    "        persist_directory='./huggingface_chroma_langchain_db', \n",
    "        embedding_function=embeddings, \n",
    "        collection_name='huggingface_embeddings'\n",
    "    )\n",
    "else:\n",
    "    raise ValueError(\"Unknown provider specified. Use 'openai' or 'huggingface'.\")"
   ]
  },
  {
   "cell_type": "code",
   "execution_count": 5,
   "metadata": {},
   "outputs": [],
   "source": [
    "retriever = vectorstore.as_retriever(search_type=\"similarity\", search_kwargs={\"k\": 3})"
   ]
  },
  {
   "cell_type": "code",
   "execution_count": 6,
   "metadata": {},
   "outputs": [],
   "source": [
    "class AgentState(TypedDict):\n",
    "    messages: Annotated[Sequence[BaseMessage], add_messages]\n",
    "    meta: dict"
   ]
  },
  {
   "cell_type": "code",
   "execution_count": 7,
   "metadata": {},
   "outputs": [],
   "source": [
    "def retrieval_node(state: AgentState):\n",
    "    \"\"\"\n",
    "    Retrieves relevant documents using the retriever.\n",
    "    It then appends a ToolMessage containing detailed content (including metadata) from the documents.\n",
    "    \"\"\"\n",
    "    query = state[\"messages\"][-1].content\n",
    "    docs = retriever.invoke(query)\n",
    "    tool_call_id = str(uuid.uuid4())\n",
    "    # Enrich each document chunk with a title (or default value)\n",
    "    detailed_content = \"\\n\\n\".join(\n",
    "        f\"Title: {doc.metadata.get('title', 'test_document')}\\nContent: {doc.page_content}\"\n",
    "        for doc in docs\n",
    "    )\n",
    "    tool_message = ToolMessage(\n",
    "        content=detailed_content,\n",
    "        name=\"stored_documents_retrieved\",\n",
    "        tool_call_id=tool_call_id\n",
    "    )\n",
    "    return {\"messages\": [tool_message]}"
   ]
  },
  {
   "cell_type": "code",
   "execution_count": 8,
   "metadata": {},
   "outputs": [],
   "source": [
    "def retrieve_latest_message_typ(state: AgentState, message_type):\n",
    "    \"\"\"\n",
    "    Helper function to retrieve the latest message of a given type.\n",
    "    \"\"\"\n",
    "    latest_message = next(\n",
    "        (msg for msg in reversed(state[\"messages\"]) if isinstance(msg, message_type)),\n",
    "        None\n",
    "    )\n",
    "    if latest_message is None:\n",
    "        raise ValueError(f\"No message found of type {message_type}\")\n",
    "    return latest_message"
   ]
  },
  {
   "cell_type": "code",
   "execution_count": 9,
   "metadata": {},
   "outputs": [],
   "source": [
    "def generate_answer_node(state: AgentState):\n",
    "    \"\"\"\n",
    "    Uses the latest ToolMessage (context) and HumanMessage (query) to construct a prompt,\n",
    "    then invokes the LLM to generate an answer.\n",
    "    \"\"\"\n",
    "    context = retrieve_latest_message_typ(state, ToolMessage).content\n",
    "    query = retrieve_latest_message_typ(state, HumanMessage).content\n",
    "    prompt = f\"\"\"\n",
    "    You are a helpful assistant answering queries based strictly on the context provided.\n",
    "\n",
    "    Context:\n",
    "    {context}\n",
    "\n",
    "    Query: {query}\n",
    "    \"\"\"\n",
    "    # Assume that llm.invoke returns an AIMessage.\n",
    "    response = llm.invoke(prompt)\n",
    "    return {\"messages\": [response]}"
   ]
  },
  {
   "cell_type": "code",
   "execution_count": 10,
   "metadata": {},
   "outputs": [],
   "source": [
    "def agent_router(state: AgentState):\n",
    "    \"\"\"\n",
    "    Determines the next step. Currently hardcoded to always route to retrieval.\n",
    "    Returns an AIMessage containing the routing decision.\n",
    "    \"\"\"\n",
    "    needs_retrieval = True  # This can be replaced with LLM logic later.\n",
    "    next_step = \"retrieve\" if needs_retrieval else END\n",
    "    routing_message = AIMessage(content=next_step)\n",
    "    return {\"messages\": [routing_message]}"
   ]
  },
  {
   "cell_type": "code",
   "execution_count": 11,
   "metadata": {},
   "outputs": [],
   "source": [
    "graph = StateGraph(AgentState)\n",
    "\n",
    "# Add nodes to the graph.\n",
    "graph.add_node(\"agent_router\", agent_router)\n",
    "graph.add_node(\"retrieve\", retrieval_node)\n",
    "graph.add_node(\"generate\", generate_answer_node)\n",
    "\n",
    "# Set the entry point.\n",
    "graph.set_entry_point(\"agent_router\")\n",
    "\n",
    "# Add conditional edges using a lambda that extracts the routing decision from the latest AIMessage.\n",
    "graph.add_conditional_edges(\n",
    "    \"agent_router\",\n",
    "    lambda state: retrieve_latest_message_typ(state, AIMessage).content,\n",
    "    path_map={\n",
    "        \"retrieve\": \"retrieve\",\n",
    "        END: END\n",
    "    }\n",
    ")\n",
    "\n",
    "# Define sequential edges.\n",
    "graph.add_edge(\"retrieve\", \"generate\")\n",
    "graph.set_finish_point(\"generate\")\n",
    "\n",
    "# Compile the app.\n",
    "app = graph.compile()"
   ]
  },
  {
   "cell_type": "code",
   "execution_count": 12,
   "metadata": {},
   "outputs": [
    {
     "data": {
      "image/png": "[encoded data removed]",
      "text/plain": [
       "<IPython.core.display.Image object>"
      ]
     },
     "metadata": {},
     "output_type": "display_data"
    }
   ],
   "source": [
    "display(Image(app.get_graph().draw_mermaid_png()))"
   ]
  },
  {
   "cell_type": "code",
   "execution_count": 13,
   "metadata": {},
   "outputs": [],
   "source": [
    "initial_state: AgentState = {\n",
    "    \"messages\": [\n",
    "        HumanMessage(content=\"What are some best practices when building langgraph workflows?\")\n",
    "    ],\n",
    "    \"meta\": {\"provider\": provider}\n",
    "}"
   ]
  },
  {
   "cell_type": "code",
   "execution_count": 14,
   "metadata": {},
   "outputs": [
    {
     "name": "stderr",
     "output_type": "stream",
     "text": [
      "/home/matt/miniconda3/envs/py311_ASKiT/lib/python3.11/site-packages/huggingface_hub/utils/_deprecation.py:131: FutureWarning: 'post' (from 'huggingface_hub.inference._client') is deprecated and will be removed from version '0.31.0'. Making direct POST requests to the inference server is not supported anymore. Please use task methods instead (e.g. `InferenceClient.chat_completion`). If your use case is not supported, please open an issue in https://github.com/huggingface/huggingface_hub.\n",
      "  warnings.warn(warning_message, FutureWarning)\n"
     ]
    }
   ],
   "source": [
    "result = app.invoke(initial_state)"
   ]
  },
  {
   "cell_type": "code",
   "execution_count": 15,
   "metadata": {},
   "outputs": [
    {
     "data": {
      "text/plain": [
       "{'messages': [HumanMessage(content='What are some best practices when building langgraph workflows?', additional_kwargs={}, response_metadata={}, id='7f2461fc-3de7-48aa-89b2-9009cd668fc6'),\n",
       "  AIMessage(content='retrieve', additional_kwargs={}, response_metadata={}, id='eb9185da-0c6f-44e8-95cf-728599d0071b'),\n",
       "  ToolMessage(content='Title: test_document\\nContent: Best Practices for Graph Structure and State\\n\\nWhen building LangGraph workflows, keep these best practices in mind:\\n\\n    Design a clear State schema: Define your state’s structure up front (using a TypedDict, Pydantic model, or dataclass) to list all fields that nodes will use. This makes it clear what data flows through the graph and helps avoid key collisions or missing data.\\n\\n    Return state updates from nodes: Each node function should return a dictionary of updates to the state. Only the keys returned will be updated or added to the shared state\\u200b\\n    stackoverflow.com\\n    . For example, if your state has a field \"progress_step\", and a node updates it, return {\"progress_step\": new_value} from that node\\u200b\\n    stackoverflow.com\\n    . This ensures the intended data is persisted in the global state. (If a node returns END or a string instead of a dict, LangGraph interprets that as a routing instruction rather than a state update.)\\n\\nTitle: test_document\\nContent: Name nodes and state fields descriptively: Use meaningful names for node keys (e.g., \"llm\" for a language model step, \"summarize_tool\" for a summarization tool) and for state fields (e.g., \"query\", \"answer\", \"analysis\"). This makes the graph easier to read and maintain. Some developers suffix node names with _node and routing functions with _router (or similar) to avoid confusion between nodes versus routing logic\\u200b\\n    stackoverflow.com\\n    .\\n\\n    Set an entry point and a termination: Always specify an entry point so it’s clear where execution begins. Likewise, ensure your graph can terminate. For linear flows or simple one-step graphs, if a node has no outgoing edges, the execution will end after that node. In loops or conditional flows, use END (or workflow.set_finish_point(node)) for at least one branch so the agent can stop. This prevents infinite loops and clearly defines an endpoint\\u200b\\n    blog.langchain.dev\\n    .\\n\\nTitle: test_document\\nContent: Keep state updates independent if possible: Each node should ideally produce its piece of state without requiring internal knowledge of how other nodes store data (beyond the agreed-upon state schema). This modular approach makes it easier to add or swap out nodes without breaking the graph’s state logic.', name='stored_documents_retrieved', id='38203974-2739-4fad-8b4e-4a5c66d33815', tool_call_id='2c0b8424-be0a-4d54-9b31-a6a9112f9cd9'),\n",
       "  HumanMessage(content=\"\\nAnswer: When building LangGraph workflows, keep the following best practices in mind:\\n\\n1. Design a clear State schema: Define your state's structure up front and list all fields that nodes will use.\\n2. Return state updates from nodes: Each node function should return a dictionary of updates to the state.\\n3. Name nodes and state fields descriptively: Use meaningful names for node keys and state fields.\\n4. Set an entry point and a termination: Specify an entry point and ensure your graph can terminate.\\n5. Keep state updates independent if possible: Each node should ideally produce its piece of state without requiring internal knowledge of how other nodes store data.\", additional_kwargs={}, response_metadata={}, id='c3fd8d65-0869-4762-8c03-3d7547046fc7')],\n",
       " 'meta': {'provider': 'huggingface'}}"
      ]
     },
     "execution_count": 15,
     "metadata": {},
     "output_type": "execute_result"
    }
   ],
   "source": [
    "result"
   ]
  }
 ],
 "metadata": {
  "kernelspec": {
   "display_name": "py311_ASKiT",
   "language": "python",
   "name": "python3"
  },
  "language_info": {
   "codemirror_mode": {
    "name": "ipython",
    "version": 3
   },
   "file_extension": ".py",
   "mimetype": "text/x-python",
   "name": "python",
   "nbconvert_exporter": "python",
   "pygments_lexer": "ipython3",
   "version": "3.11.9"
  }
 },
 "nbformat": 4,
 "nbformat_minor": 2
}
